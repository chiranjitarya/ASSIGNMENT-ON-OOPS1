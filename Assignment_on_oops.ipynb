{
  "nbformat": 4,
  "nbformat_minor": 0,
  "metadata": {
    "colab": {
      "provenance": []
    },
    "kernelspec": {
      "name": "python3",
      "display_name": "Python 3"
    },
    "language_info": {
      "name": "python"
    }
  },
  "cells": [
    {
      "cell_type": "markdown",
      "source": [
        "Q.1 What is Object-Oriented Programming (OOP)?\n",
        " * Object-Oriented Programming (OOP) is a programming paradigm that revolves around the concept of objects and classes. It's a way of designing and organizing code that simulates real-world objects and systems.\n",
        "\n",
        "Q.2 What is a class in OOP?\n",
        " * A class is a blueprint or template that defines the properties and behavior of an object. It's a fundamental concept in OOP that allows you to create objects that share similar characteristics and behaviors.\n",
        "\n",
        "Q.3 What is an object in OOP?\n",
        " * An object is an instance of a class, and it represents a real-world entity or concept. It has its own set of attributes (data) and methods (functions) that describe its characteristics and behavior.\n",
        "\n",
        "Q.4 What is the difference between abstraction and encapsulation?\n",
        " * Abstraction is the process of exposing only the essential features of an object or system while hiding its internal details. It's about showing what an object can do, without revealing how it does it. Abstraction helps to:\n",
        " - Reduce complexity\n",
        " - Improve modularity\n",
        " - Enhance flexibility\n",
        " Encapsulation is the process of bundling data and its associated methods that operate on that data within a single unit (class or object). It's about hiding the internal implementation details of an object from the outside world. Encapsulation helps to:\n",
        " - Protect data from external interference\n",
        " - Improve code organization\n",
        " - Enhance data security\n",
        "\n",
        "Q.5 What are dunder methods in Python?\n",
        " * Dunder methods, short for \"double underscore\" methods, are special methods in Python classes that are surrounded by double underscores (__) on either side of the method name. These methods are also known as \"magic methods\" or \"special methods.\"\n",
        "\n",
        "Q.6 Explain the concept of inheritance in OOP?\n",
        " * Inheritance is a fundamental concept in OOP that allows one class to inherit the properties and behavior of another class. The inheriting class, known as the subclass or derived class, inherits all the attributes and methods of the parent class, known as the superclass or base class.\n",
        "\n",
        "Q.7H What is polymorphism in OOP?\n",
        " * Polymorphism is the ability of an object to take on multiple forms, depending on the context in which it is used. This allows objects of different classes to be treated as objects of a common superclass, enabling more flexibility and generic code.\n",
        "Q.8  How is encapsulation achieved in Python?\n",
        " * Encapsulation in Python is achieved through the use of classes and objects. Python provides a way to encapsulate data and methods that operate on that data within a single unit, which is the class.\n",
        "\n",
        "Q.9 What is a constructor in Python?\n",
        " * A constructor in Python is a special method that is automatically called when an object of a class is created. It is used to initialize the attributes of the class.\n",
        "\n",
        "Q.10 What are class and static methods in Python?\n",
        " * Class Methods: Class methods are methods that are bound to the class rather than the instance of the class. They are used to define methods that belong to the class itself, rather than instances of the class.\n",
        " Static Methods: Static methods are methods that belong to a class rather than an instance of the class. They are used to define utility methods that don't depend on the state of the class or instance.\n",
        "\n",
        "Q.11 What is method overloading in Python ?\n",
        " * Method overloading is a feature in some programming languages that allows multiple methods with the same name to be defined, but with different parameter lists. However, Python does not directly support method overloading like some other languages.\n",
        "\n",
        "Q.12 What is method overriding in OOP?\n",
        " * Method overriding is a feature in OOP that allows a subclass to provide a different implementation of a method that is already defined in its superclass. The method in the subclass has the same name, return type, and parameter list as the method in the superclass, but it can have a different implementation.\n",
        "\n",
        "Q.13  What is a property decorator in Python?\n",
        " * The property decorator in Python allows you to implement getters, setters, and deleters for attributes of a class. It provides a way to customize access to instance data, enabling you to add logic to attribute access and modification.\n",
        "\n",
        "Q.14  Why is polymorphism important in OOP?\n",
        " * Polymorphism is a fundamental concept in Object-Oriented Programming (OOP) that allows objects of different classes to be treated as objects of a common superclass. This enables more flexibility, generic code, and easier maintenance.\n",
        "Q.15 What is an abstract class in Python?\n",
        " * An abstract class in Python is a class that cannot be instantiated and is designed to be inherited by other classes. Abstract classes provide a way to define a blueprint for other classes, specifying methods that must be implemented by any subclass.\n",
        "\n",
        "Q.16 What are the advantages of OOP?\n",
        " *Object-Oriented Programming (OOP) offers several advantages that make it a popular and effective programming paradigm. Some of the key benefits of OOP include:\n",
        "- Modularity: OOP allows you to break down a program into smaller, independent modules (objects) that can be developed and tested separately.\n",
        "- Reusability: OOP enables code reusability through inheritance and polymorphism, reducing the need to duplicate code.\n",
        "- Easier Maintenance: OOP makes it easier to modify and maintain code by providing a clear structure and organization.\n",
        "- Improved Code Readability: OOP promotes code readability by using meaningful object names, attributes, and methods.\n",
        "\n",
        "Q.17 What is the difference between a class variable and an instance variable?\n",
        " * Class Variables:\n",
        "- Shared by all instances: Class variables are shared by all instances of a class.\n",
        "- Defined at the class level: Class variables are defined at the class level, outside of any method.\n",
        "Instance Variables:\n",
        "- Unique to each instance: Instance variables are unique to each instance of a class.\n",
        "- Defined at the instance level: Instance variables are defined at the instance level, typically in the __init__ method.\n",
        "\n",
        "Q.18 What is multiple inheritance in Python?\n",
        " * Multiple inheritance in Python is a feature that allows a class to inherit properties and behavior from more than one superclass or parent class. This enables a subclass to combine the attributes and methods of multiple superclasses.\n",
        "\n",
        "Q.19 Explain the purpose of \"__str__, 'and' __repr__, \" methods in Python?\n",
        " * The __str__ and __repr__ methods in Python are special methods that are used to represent objects as strings.\n",
        "__str__ Method:\n",
        "- Purpose: The __str__ method is used to return a human-readable string representation of an object.\n",
        "- Use case: The __str__ method is typically used when you want to display an object in a user-friendly format, such as when printing an object.\n",
        "__repr__ Method:\n",
        "- Purpose: The __repr__ method is used to return a string representation of an object that is useful for debugging and logging.\n",
        "- Use case: The __repr__ method is typically used when you want to get a more detailed and informative representation of an object, such as when debugging or logging.\n",
        "\n",
        "Q.20 What is the significance of the 'super()' function in Python?\n",
        " * The super() function in Python is used to access the methods and properties of a parent or sibling class in a multiple inheritance scenario. It allows you to call methods of the superclass from a subclass, enabling more flexibility and modularity in your code.\n",
        "\n",
        "Q.21 What is the significance of the __del__ method in Python?\n",
        " * The __del__ method in Python is a special method that is called when an object is about to be destroyed. It is also known as a finalizer or destructor.\n",
        "Q.22 What is the difference between @staticmethod and @classmethod in Python?\n",
        " * @staticmethod:\n",
        "- No implicit parameter: A static method does not have an implicit first parameter (like self or cls).\n",
        "- No access to class or instance: A static method cannot access the class or instance variables.\n",
        " @classmethod:\n",
        "- Implicit cls parameter: A class method has an implicit first parameter (cls) that refers to the class.\n",
        "- Access to class: A class method can access the class variables and methods.\n",
        "\n",
        "Q.23 How does polymorphism work in Python with inheritance?\n",
        " * Polymorphism is a fundamental concept in object-oriented programming that allows objects of different classes to be treated as objects of a common superclass. In Python, polymorphism works seamlessly with inheritance, enabling you to write more flexible and generic code.\n",
        "\n",
        "Q.24 What is method chaining in Python OOP?\n",
        " * Method chaining is a technique in object-oriented programming (OOP) where multiple methods are called on the same object in a single statement. Each method returns the object itself, allowing the next method to be called on the same object.\n",
        "\n",
        "Q.25 What is the purpose of the __call__ method in Python?\n",
        " * The __call__ method in Python is a special method that allows an object to be called as a function. It enables instances of a class to behave like functions, making them callable."
      ],
      "metadata": {
        "id": "POTaIQQ8Xgb8"
      }
    },
    {
      "cell_type": "markdown",
      "source": [
        "\n",
        "1. Create a parent class Animal with a method speak() that prints a generic message. Create a child class Dog\n",
        "that overrides the speak() method to print \"Bark!\"."
      ],
      "metadata": {
        "id": "285JwL8MpE9e"
      }
    },
    {
      "cell_type": "code",
      "source": [
        "class animal:\n",
        "    def speak(self):\n",
        "        print(\"The animal makes a generic sound.\")\n",
        "\n",
        "class Dog(animal):\n",
        "    def speak(self):\n",
        "        print(\"Bark!\")\n",
        "\n",
        "# Create instances\n",
        "animal = animal()\n",
        "dog = Dog()\n",
        "\n",
        "# Call the speak method\n",
        "animal.speak()\n",
        "dog.speak()"
      ],
      "metadata": {
        "colab": {
          "base_uri": "https://localhost:8080/"
        },
        "id": "Q-TC6zyToxmb",
        "outputId": "a4aa798a-c0ed-413d-c576-0272a1a16712"
      },
      "execution_count": 2,
      "outputs": [
        {
          "output_type": "stream",
          "name": "stdout",
          "text": [
            "The animal makes a generic sound.\n",
            "Bark!\n"
          ]
        }
      ]
    },
    {
      "cell_type": "markdown",
      "source": [
        "2. Write a program to create an abstract class Shape with a method area(). Derive classes Circle and Rectangle\n",
        "from it and implement the area() method in both.\n"
      ],
      "metadata": {
        "id": "5pkOvvnXf_rI"
      }
    },
    {
      "cell_type": "code",
      "source": [
        "from abc import ABC, abstractmethod\n",
        "import math\n",
        "\n",
        "class Shape(ABC):\n",
        "    @abstractmethod\n",
        "    def area(self):\n",
        "        pass\n",
        "\n",
        "class Circle(Shape):\n",
        "    def __init__(self, radius):\n",
        "        self.radius = radius\n",
        "\n",
        "    def area(self):\n",
        "        return math.pi * (self.radius ** 2)\n",
        "\n",
        "class Rectangle(Shape):\n",
        "    def __init__(self, width, height):\n",
        "        self.width = width\n",
        "        self.height = height\n",
        "\n",
        "    def area(self):\n",
        "        return self.width * self.height\n",
        "\n",
        "# Create instances\n",
        "circle = Circle(5)\n",
        "rectangle = Rectangle(4, 6)\n",
        "\n",
        "# Calculate and print areas\n",
        "print(f\"Circle area: {circle.area():.2f}\")\n",
        "print(f\"Rectangle area: {rectangle.area():.2f}\")"
      ],
      "metadata": {
        "colab": {
          "base_uri": "https://localhost:8080/"
        },
        "id": "Z7_lBckugELr",
        "outputId": "0d4a20f8-dddc-4a02-9943-14aac1516387"
      },
      "execution_count": 7,
      "outputs": [
        {
          "output_type": "stream",
          "name": "stdout",
          "text": [
            "Circle area: 78.54\n",
            "Rectangle area: 24.00\n"
          ]
        }
      ]
    },
    {
      "cell_type": "markdown",
      "source": [
        "3. Implement a multi-level inheritance scenario where a class Vehicle has an attribute type. Derive a class Car\n",
        "and further derive a class ElectricCar that adds a battery attribute.\n"
      ],
      "metadata": {
        "id": "gd1gAv2wleYD"
      }
    },
    {
      "cell_type": "code",
      "source": [
        "class Vehicle:\n",
        "    def __init__(self, vehicle_type):\n",
        "        self.type = vehicle_type\n",
        "\n",
        "    def display_type(self):\n",
        "        print(f\"Vehicle type: {self.type}\")\n",
        "\n",
        "class Car(Vehicle):\n",
        "    def __init__(self, vehicle_type, brand, model):\n",
        "        super().__init__(vehicle_type)\n",
        "        self.brand = brand\n",
        "        self.model = model\n",
        "\n",
        "    def display_details(self):\n",
        "        print(f\"Brand: {self.brand}, Model: {self.model}\")\n",
        "\n",
        "class ElectricCar(Car):\n",
        "    def __init__(self, brand, model, battery_capacity):\n",
        "        super().__init__(\"Electric Car\", brand, model)\n",
        "        self.battery_capacity = battery_capacity\n",
        "\n",
        "    def display_battery_info(self):\n",
        "        print(f\"Battery capacity: {self.battery_capacity} kWh\")\n",
        "\n",
        "# Create an instance of ElectricCar\n",
        "electric_car = ElectricCar(\"Tesla\", \"Model S\", 100)\n",
        "\n",
        "# Display vehicle type\n",
        "electric_car.display_type()\n",
        "\n",
        "# Display car details\n",
        "electric_car.display_details()\n",
        "# Display battery information\n",
        "electric_car.display_battery_info()"
      ],
      "metadata": {
        "colab": {
          "base_uri": "https://localhost:8080/"
        },
        "id": "A451Fs2nlmGp",
        "outputId": "ac0140a3-b0b4-4b3b-fa16-e9ac6533f7f9"
      },
      "execution_count": 8,
      "outputs": [
        {
          "output_type": "stream",
          "name": "stdout",
          "text": [
            "Vehicle type: Electric Car\n",
            "Brand: Tesla, Model: Model S\n",
            "Battery capacity: 100 kWh\n"
          ]
        }
      ]
    },
    {
      "cell_type": "markdown",
      "source": [
        "4. Demonstrate polymorphism by creating a base class Bird with a method fly(). Create two derived classes\n",
        "Sparrow and Penguin that override the fly() method."
      ],
      "metadata": {
        "id": "MOFwk8bXra0l"
      }
    },
    {
      "cell_type": "code",
      "source": [
        "class Bird:\n",
        "    def fly(self):\n",
        "        print(\"The bird flies.\")\n",
        "\n",
        "class Sparrow(Bird):\n",
        "    def fly(self):\n",
        "        print(\"The sparrow flutters its wings and flies.\")\n",
        "\n",
        "class Penguin(Bird):\n",
        "    def fly(self):\n",
        "        print(\"The penguin cannot fly, but it can swim.\")\n",
        "\n",
        "# Create a list of birds\n",
        "birds = [Sparrow(), Penguin(), Sparrow()]\n",
        "\n",
        "# Demonstrate polymorphism\n",
        "for bird in birds:\n",
        "    bird.fly()"
      ],
      "metadata": {
        "colab": {
          "base_uri": "https://localhost:8080/"
        },
        "id": "EC-0Ypk5rhS9",
        "outputId": "6333df13-3794-4015-8d90-32ebd1a021e2"
      },
      "execution_count": 9,
      "outputs": [
        {
          "output_type": "stream",
          "name": "stdout",
          "text": [
            "The sparrow flutters its wings and flies.\n",
            "The penguin cannot fly, but it can swim.\n",
            "The sparrow flutters its wings and flies.\n"
          ]
        }
      ]
    },
    {
      "cell_type": "markdown",
      "source": [
        "5. Write a program to demonstrate encapsulation by creating a class Bank Account with private attributes\n",
        "balance and methods to deposit, withdraw, and check balance.\n"
      ],
      "metadata": {
        "id": "Ylyuldz6r9Og"
      }
    },
    {
      "cell_type": "code",
      "source": [
        "class BankAccount:\n",
        "    def __init__(self, initial_balance=0):\n",
        "        self.__balance = initial_balance\n",
        "\n",
        "    def deposit(self, amount):\n",
        "        if amount > 0:\n",
        "            self.__balance += amount\n",
        "            print(f\"Deposited ${amount:.2f}. Current balance: ${self.__balance:.2f}\")\n",
        "        else:\n",
        "            print(\"Invalid deposit amount.\")\n",
        "\n",
        "    def withdraw(self, amount):\n",
        "        if 0 < amount <= self.__balance:\n",
        "            self.__balance -= amount\n",
        "            print(f\"Withdrew ${amount:.2f}. Current balance: ${self.__balance:.2f}\")\n",
        "        elif amount <= 0:\n",
        "            print(\"Invalid withdrawal amount.\")\n",
        "        else:\n",
        "            print(\"Insufficient funds.\")\n",
        "\n",
        "    def check_balance(self):\n",
        "        print(f\"Current balance: ${self.__balance:.2f}\")\n",
        "\n",
        "# Create a bank account\n",
        "account = BankAccount(1000)\n",
        "\n",
        "# Deposit money\n",
        "account.deposit(500)\n",
        "\n",
        "# Withdraw money\n",
        "account.withdraw(200)\n",
        "\n",
        "# Check balance\n",
        "account.check_balance()\n",
        "\n",
        "# Attempt to withdraw more than the balance\n",
        "account.withdraw(2000)\n",
        "\n",
        "\n"
      ],
      "metadata": {
        "colab": {
          "base_uri": "https://localhost:8080/"
        },
        "id": "MBHhOa9Nr-yz",
        "outputId": "c9889c27-af11-476b-9a8f-3250873dffec"
      },
      "execution_count": 10,
      "outputs": [
        {
          "output_type": "stream",
          "name": "stdout",
          "text": [
            "Deposited $500.00. Current balance: $1500.00\n",
            "Withdrew $200.00. Current balance: $1300.00\n",
            "Current balance: $1300.00\n",
            "Insufficient funds.\n"
          ]
        }
      ]
    },
    {
      "cell_type": "markdown",
      "source": [
        "6. Demonstrate runtime polymorphism using a method play() in a base class Instrument. Derive classes Guitar\n",
        "and Piano that implement their own version of play().\n"
      ],
      "metadata": {
        "id": "E61xhJmSvpDV"
      }
    },
    {
      "cell_type": "code",
      "source": [
        "class Instrument:\n",
        "    def play(self):\n",
        "        print(\"The instrument is playing.\")\n",
        "\n",
        "class Guitar(Instrument):\n",
        "    def play(self):\n",
        "        print(\"The guitar is strumming.\")\n",
        "\n",
        "class Piano(Instrument):\n",
        "    def play(self):\n",
        "        print(\"The piano is being played.\")\n",
        "\n",
        "# Create a list of instruments\n",
        "instruments = [Guitar(), Piano(), Guitar()]\n",
        "\n",
        "# Demonstrate runtime polymorphism\n",
        "for instrument in instruments:\n",
        "    instrument.play()"
      ],
      "metadata": {
        "colab": {
          "base_uri": "https://localhost:8080/"
        },
        "id": "nNZXim3ZvvHg",
        "outputId": "8e8f8ef7-e682-4d29-954e-1bb1a8a012a7"
      },
      "execution_count": 12,
      "outputs": [
        {
          "output_type": "stream",
          "name": "stdout",
          "text": [
            "The guitar is strumming.\n",
            "The piano is being played.\n",
            "The guitar is strumming.\n"
          ]
        }
      ]
    },
    {
      "cell_type": "markdown",
      "source": [
        "7. Create a class MathOperations with a class method add_numbers() to add two numbers and a static\n",
        "method subtract_numbers() to subtract two numbers."
      ],
      "metadata": {
        "id": "ab_gnQHQwzOY"
      }
    },
    {
      "cell_type": "code",
      "source": [
        "class MathOperations:\n",
        "    @classmethod\n",
        "    def add_numbers(cls, num1, num2):\n",
        "        return num1 + num2\n",
        "\n",
        "    @staticmethod\n",
        "    def subtract_numbers(num1, num2):\n",
        "        return num1 - num2\n",
        "\n",
        "# Call the class method\n",
        "result_add = MathOperations.add_numbers(10, 5)\n",
        "print(f\"Addition result: {result_add}\")\n",
        "# Call the static method\n",
        "result_subtract = MathOperations.subtract_numbers(10, 5)\n",
        "print(f\"Subtraction result: {result_subtract}\")"
      ],
      "metadata": {
        "colab": {
          "base_uri": "https://localhost:8080/"
        },
        "id": "_qJ0KY0Bw_iN",
        "outputId": "d1e5f51b-5113-4d4f-84db-c20fb3afc3d9"
      },
      "execution_count": 13,
      "outputs": [
        {
          "output_type": "stream",
          "name": "stdout",
          "text": [
            "Addition result: 15\n",
            "Subtraction result: 5\n"
          ]
        }
      ]
    },
    {
      "cell_type": "markdown",
      "source": [
        "8. Implement a class Person with a class method to count the total number of persons created.\n"
      ],
      "metadata": {
        "id": "ttaiQKJbxnON"
      }
    },
    {
      "cell_type": "code",
      "source": [
        "class Person:\n",
        "    total_persons = 0\n",
        "\n",
        "    def __init__(self, name, age):\n",
        "        self.name = name\n",
        "        self.age = age\n",
        "        Person.total_persons += 1\n",
        "\n",
        "    @classmethod\n",
        "    def count_persons(cls):\n",
        "        return cls.total_persons\n",
        "\n",
        "# Create some Person instances\n",
        "person1 = Person(\"laboni\", 30)\n",
        "person2 = Person(\"chiranjit\", 25)\n",
        "person3 = Person(\"labjit\", 40)\n",
        "\n",
        "# Get the total number of persons\n",
        "total_persons = Person.count_persons()\n",
        "print(f\"Total persons created: {total_persons}\")"
      ],
      "metadata": {
        "colab": {
          "base_uri": "https://localhost:8080/"
        },
        "id": "cDlLIz7SxsCx",
        "outputId": "f32b9c8f-ab8e-4e3a-bafa-baca0d9b47d4"
      },
      "execution_count": 15,
      "outputs": [
        {
          "output_type": "stream",
          "name": "stdout",
          "text": [
            "Total persons created: 3\n"
          ]
        }
      ]
    },
    {
      "cell_type": "markdown",
      "source": [
        "9. Write a class Fraction with attributes numerator and denominator. Override the str method to display the\n",
        "fraction as \"numerator/denominator\"."
      ],
      "metadata": {
        "id": "n6AmRBX6yOmj"
      }
    },
    {
      "cell_type": "code",
      "source": [
        "class Fraction:\n",
        "    def __init__(self, numerator, denominator):\n",
        "        if denominator == 0:\n",
        "            raise ZeroDivisionError(\"Denominator cannot be zero.\")\n",
        "        self.numerator = numerator\n",
        "        self.denominator = denominator\n",
        "\n",
        "    def __str__(self):\n",
        "        return f\"{self.numerator}/{self.denominator}\"\n",
        "\n",
        "# Create a Fraction instance\n",
        "fraction = Fraction(3, 4)\n",
        "\n",
        "# Display the fraction\n",
        "print(fraction)"
      ],
      "metadata": {
        "colab": {
          "base_uri": "https://localhost:8080/"
        },
        "id": "HZQ_E8qnyVN6",
        "outputId": "51232289-7cbc-4b51-c000-9823cbca6950"
      },
      "execution_count": 16,
      "outputs": [
        {
          "output_type": "stream",
          "name": "stdout",
          "text": [
            "3/4\n"
          ]
        }
      ]
    },
    {
      "cell_type": "markdown",
      "source": [
        "10. Demonstrate operator overloading by creating a class Vector and overriding the add method to add two vectors."
      ],
      "metadata": {
        "id": "ovQcyS1mytAe"
      }
    },
    {
      "cell_type": "code",
      "source": [
        "class Vector:\n",
        "    def __init__(self, x, y):\n",
        "        self.x = x\n",
        "        self.y = y\n",
        "\n",
        "    def __add__(self, other):\n",
        "        return Vector(self.x + other.x, self.y + other.y)\n",
        "\n",
        "    def __str__(self):\n",
        "        return f\"({self.x}, {self.y})\"\n",
        "\n",
        "# Create two Vector instances\n",
        "vector1 = Vector(2, 3)\n",
        "vector2 = Vector(4, 5)\n",
        "\n",
        "# Add the vectors\n",
        "result = vector1 + vector2\n",
        "\n",
        "# Display the result\n",
        "print(f\"Vector 1: {vector1}\")\n",
        "print(f\"Vector 2: {vector2}\")\n",
        "print(f\"Result: {result}\")"
      ],
      "metadata": {
        "colab": {
          "base_uri": "https://localhost:8080/"
        },
        "id": "dlhCnYiry8rH",
        "outputId": "2eb0a34f-855b-4fe1-db63-fbe3d1b006e0"
      },
      "execution_count": 17,
      "outputs": [
        {
          "output_type": "stream",
          "name": "stdout",
          "text": [
            "Vector 1: (2, 3)\n",
            "Vector 2: (4, 5)\n",
            "Result: (6, 8)\n"
          ]
        }
      ]
    },
    {
      "cell_type": "markdown",
      "source": [
        "11. Create a class Person with attributes name and age. Add a method greet() that prints \"Hello, my name is\n",
        "{name} and I am {age} years old.\"\n"
      ],
      "metadata": {
        "id": "UlNPiOWWzRxs"
      }
    },
    {
      "cell_type": "code",
      "source": [
        "class Person:\n",
        "    def __init__(self, name, age):\n",
        "        self.name = name\n",
        "        self.age = age\n",
        "\n",
        "    def greet(self):\n",
        "        print(f\"Hello, my name is {self.name} and I am {self.age} years old.\")\n",
        "\n",
        "person = Person(\"chiranjit\", 30)\n",
        "person.greet()"
      ],
      "metadata": {
        "colab": {
          "base_uri": "https://localhost:8080/"
        },
        "id": "hfwx4xjPzjLy",
        "outputId": "8d993b36-aa07-4583-c4f1-9ed03063e9bd"
      },
      "execution_count": 21,
      "outputs": [
        {
          "output_type": "stream",
          "name": "stdout",
          "text": [
            "Hello, my name is chiranjit and I am 30 years old.\n"
          ]
        }
      ]
    },
    {
      "cell_type": "markdown",
      "source": [
        "12. Implement a class Student with attributes name and grades. Create a method average_grade() to compute\n",
        "the average of the grades."
      ],
      "metadata": {
        "id": "XZs-Op7qz1GB"
      }
    },
    {
      "cell_type": "code",
      "source": [
        "class Student:\n",
        "    def __init__(self, name, grades):\n",
        "        self.name = name\n",
        "        self.grades = grades\n",
        "\n",
        "    def average_grade(self):\n",
        "        if not self.grades:\n",
        "            return 0\n",
        "        return sum(self.grades) / len(self.grades)\n",
        "\n",
        "# Create a Student instance\n",
        "student = Student(\"chiranjit\", [90, 85, 95, 92])\n",
        "\n",
        "# Calculate and display the average grade\n",
        "average = student.average_grade()\n",
        "print(f\"Student Name: {student.name}\")\n",
        "print(f\"Grades: {student.grades}\")\n",
        "print(f\"Average Grade: {average:.2f}\")"
      ],
      "metadata": {
        "colab": {
          "base_uri": "https://localhost:8080/"
        },
        "id": "mDamT8XXz6E1",
        "outputId": "1c407158-6b43-4799-8679-7dfc9bc41ba6"
      },
      "execution_count": 22,
      "outputs": [
        {
          "output_type": "stream",
          "name": "stdout",
          "text": [
            "Student Name: chiranjit\n",
            "Grades: [90, 85, 95, 92]\n",
            "Average Grade: 90.50\n"
          ]
        }
      ]
    },
    {
      "cell_type": "markdown",
      "source": [
        "13. Create a class Rectangle with methods set_dimensions() to set the dimensions and area() to calculate the area"
      ],
      "metadata": {
        "id": "1xCMTyi01AZP"
      }
    },
    {
      "cell_type": "code",
      "source": [
        "class Rectangle:\n",
        "    def __init__(self):\n",
        "        self.length = 0\n",
        "        self.width = 0\n",
        "\n",
        "    def set_dimensions(self, length, width):\n",
        "        if length < 0 or width < 0:\n",
        "            raise ValueError(\"Length and width cannot be negative.\")\n",
        "        self.length = length\n",
        "        self.width = width\n",
        "\n",
        "    def area(self):\n",
        "        return self.length * self.width\n",
        "\n",
        "# Create a Rectangle instance\n",
        "rectangle = Rectangle()\n",
        "\n",
        "# Set the dimensions\n",
        "rectangle.set_dimensions(5, 4)\n",
        "\n",
        "# Calculate and display the area\n",
        "area = rectangle.area()\n",
        "print(f\"Length: {rectangle.length}\")\n",
        "print(f\"Width: {rectangle.width}\")\n",
        "print(f\"Area: {area}\")"
      ],
      "metadata": {
        "id": "h-5fcCku1aIX"
      },
      "execution_count": null,
      "outputs": []
    },
    {
      "cell_type": "markdown",
      "source": [
        "14. Create a class Employee with a method calculate_salary() that computes the salary based on hours worked\n",
        "and hourly rate. Create a derived class Manager that adds a bonus to the salary."
      ],
      "metadata": {
        "id": "cqiBAcai3WgY"
      }
    },
    {
      "cell_type": "code",
      "source": [
        "class Employee:\n",
        "    def __init__(self, name, hourly_rate):\n",
        "        self.name = name\n",
        "        self.hourly_rate = hourly_rate\n",
        "        self.hours_worked = 0\n",
        "\n",
        "    def calculate_salary(self):\n",
        "        return self.hours_worked * self.hourly_rate\n",
        "\n",
        "    def log_hours(self, hours):\n",
        "        self.hours_worked += hours\n",
        "\n",
        "class Manager(Employee):\n",
        "    def __init__(self, name, hourly_rate, bonus):\n",
        "        super().__init__(name, hourly_rate)\n",
        "        self.bonus = bonus\n",
        "\n",
        "    def calculate_salary(self):\n",
        "        return super().calculate_salary() + self.bonus\n",
        "\n",
        "# Create an Employee instance\n",
        "employee = Employee(\"chiranjit\", 50)\n",
        "employee.log_hours(40)\n",
        "\n",
        "# Create a Manager instance\n",
        "manager = Manager(\"ranjit\", 75, 1000)\n",
        "manager.log_hours(40)\n",
        "\n",
        "# Calculate and display salaries\n",
        "employee_salary = employee.calculate_salary()\n",
        "manager_salary = manager.calculate_salary()\n",
        "\n",
        "print(f\"Employee Name: {employee.name}\")\n",
        "print(f\"Employee Salary: ${employee_salary}\")\n",
        "print(f\"Manager Name: {manager.name}\")\n",
        "print(f\"Manager Salary: ${manager_salary}\")\n",
        "\n"
      ],
      "metadata": {
        "colab": {
          "base_uri": "https://localhost:8080/"
        },
        "id": "-JSA2j8z3b5F",
        "outputId": "9b4fad80-c5b4-4c19-c2a4-221ab91313e5"
      },
      "execution_count": 24,
      "outputs": [
        {
          "output_type": "stream",
          "name": "stdout",
          "text": [
            "Employee Name: chiranjit\n",
            "Employee Salary: $2000\n",
            "Manager Name: ranjit\n",
            "Manager Salary: $4000\n"
          ]
        }
      ]
    },
    {
      "cell_type": "markdown",
      "source": [
        "15. Create a class Product with attributes name, price, and quantity. Implement a method total_price() that\n",
        "calculates the total price of the product.\n"
      ],
      "metadata": {
        "id": "5Kg8NT-v4_nz"
      }
    },
    {
      "cell_type": "code",
      "source": [
        "class Product:\n",
        "    def __init__(self, name, price, quantity):\n",
        "        self.name = name\n",
        "        self.price = price\n",
        "        self.quantity = quantity\n",
        "\n",
        "    def total_price(self):\n",
        "        return self.price * self.quantity\n",
        "\n",
        "# Create a Product instance\n",
        "product = Product(\"Laptop\", 1000, 5)\n",
        "\n",
        "# Calculate and display the total price\n",
        "total = product.total_price()\n",
        "print(f\"Product Name: {product.name}\")\n",
        "print(f\"Price: ${product.price}\")\n",
        "print(f\"Quantity: {product.quantity}\")\n",
        "print(f\"Total Price: ${total}\")"
      ],
      "metadata": {
        "colab": {
          "base_uri": "https://localhost:8080/"
        },
        "id": "tWvTfNeX5PsY",
        "outputId": "4c2f5350-716c-4251-f886-88b585fc73ff"
      },
      "execution_count": 25,
      "outputs": [
        {
          "output_type": "stream",
          "name": "stdout",
          "text": [
            "Product Name: Laptop\n",
            "Price: $1000\n",
            "Quantity: 5\n",
            "Total Price: $5000\n"
          ]
        }
      ]
    },
    {
      "cell_type": "markdown",
      "source": [
        "16. Create a class Animal with an abstract method sound(). Create two derived classes Cow and Sheep that\n",
        "implement the sound() method.\n"
      ],
      "metadata": {
        "id": "um73keW1B1P0"
      }
    },
    {
      "cell_type": "code",
      "source": [
        "# from abc import ABC, abstractmethod\n",
        "\n",
        "class Animal(ABC):\n",
        "    @abstractmethod\n",
        "    def sound(self):\n",
        "        pass\n",
        "\n",
        "class Cow(Animal):\n",
        "    def sound(self):\n",
        "        return \"Moo\"\n",
        "\n",
        "class Sheep(Animal):\n",
        "    def sound(self):\n",
        "        return \"Baa\"\n",
        "\n",
        "# Create instances of Cow and Sheep\n",
        "cow = Cow()\n",
        "sheep = Sheep()\n",
        "\n",
        "# Make sounds\n",
        "print(f\"Cow says: {cow.sound()}\")\n",
        "print(f\"Sheep says: {sheep.sound()}\")"
      ],
      "metadata": {
        "colab": {
          "base_uri": "https://localhost:8080/"
        },
        "id": "rxoaI8MGB2ng",
        "outputId": "8dea2a83-e544-4be0-f8f6-c1cea3af3d2f"
      },
      "execution_count": 26,
      "outputs": [
        {
          "output_type": "stream",
          "name": "stdout",
          "text": [
            "Cow says: Moo\n",
            "Sheep says: Baa\n"
          ]
        }
      ]
    },
    {
      "cell_type": "markdown",
      "source": [
        "17. Create a class Book with attributes title, author, and year_published. Add a method get_book_info() that\n",
        "returns a formatted string with the book's details.\n"
      ],
      "metadata": {
        "id": "dK-RLgy4CTwK"
      }
    },
    {
      "cell_type": "code",
      "source": [
        "class Book:\n",
        "    def __init__(self, title, author, year_published):\n",
        "        self.title = title\n",
        "        self.author = author\n",
        "        self.year_published = year_published\n",
        "\n",
        "    def get_book_info(self):\n",
        "        return f\"'{self.title}' by {self.author}, published in {self.year_published}\"\n",
        "\n",
        "# Create a Book instance\n",
        "book = Book(\"To Kill a Mockingbird\", \"Harper Lee\", 1960)\n",
        "\n",
        "# Get and display the book's info\n",
        "book_info = book.get_book_info()\n",
        "print(book_info)"
      ],
      "metadata": {
        "colab": {
          "base_uri": "https://localhost:8080/"
        },
        "id": "PuRoA6bbCc2p",
        "outputId": "3b86149c-10cd-4346-ed6f-31ac5b69b94a"
      },
      "execution_count": 27,
      "outputs": [
        {
          "output_type": "stream",
          "name": "stdout",
          "text": [
            "'To Kill a Mockingbird' by Harper Lee, published in 1960\n"
          ]
        }
      ]
    },
    {
      "cell_type": "markdown",
      "source": [
        "18. Create a class House with attributes address and price. Create a derived class Mansion that adds an\n",
        "attribute number_of_rooms"
      ],
      "metadata": {
        "id": "O2J3oczNDRO3"
      }
    },
    {
      "cell_type": "code",
      "source": [
        "class House:\n",
        "    def __init__(self, address, price):\n",
        "        self.address = address\n",
        "        self.price = price\n",
        "\n",
        "    def get_house_info(self):\n",
        "        return f\"Address: {self.address}, Price: ${self.price}\"\n",
        "\n",
        "class Mansion(House):\n",
        "    def __init__(self, address, price, number_of_rooms):\n",
        "        super().__init__(address, price)\n",
        "        self.number_of_rooms = number_of_rooms\n",
        "\n",
        "    def get_house_info(self):\n",
        "        return super().get_house_info() + f\", Number of Rooms: {self.number_of_rooms}\"\n",
        "\n",
        "# Create instances of House and Mansion\n",
        "house = House(\"123 Main St\", 200000)\n",
        "mansion = Mansion(\"456 Luxury Dr\", 1000000, 10)\n",
        "\n",
        "# Get and display the house and mansion info\n",
        "print(house.get_house_info())\n",
        "print(mansion.get_house_info())"
      ],
      "metadata": {
        "colab": {
          "base_uri": "https://localhost:8080/"
        },
        "id": "vG8pLcDMDXOk",
        "outputId": "2e6555d0-518f-4a95-df4f-39f12d727437"
      },
      "execution_count": 28,
      "outputs": [
        {
          "output_type": "stream",
          "name": "stdout",
          "text": [
            "Address: 123 Main St, Price: $200000\n",
            "Address: 456 Luxury Dr, Price: $1000000, Number of Rooms: 10\n"
          ]
        }
      ]
    }
  ]
}